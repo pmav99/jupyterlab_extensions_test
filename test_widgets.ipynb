{
 "cells": [
  {
   "cell_type": "markdown",
   "metadata": {},
   "source": [
    "# JEODPP + jupyterlab + extensions\n",
    "\n",
    "### Extension list\n",
    "\n",
    "We currently use the following jupyterlab extensions:\n",
    "\n",
    "- `jupyter-widgets/jupyterlab-manager`\n",
    "- `jupyter-widgets/jupyterlab-sidecar`\n",
    "- `bokeh`\n",
    "- `bqplot`\n",
    "- `ipycanvas`\n",
    "- `ipyevents`\n",
    "- `ipytree`\n",
    "- `jupyter-leaflet`\n",
    "- `jupyter-matplotlib`\n",
    "- `qgrid2`\n",
    "\n",
    "In order to install these we need to install both python packages and the corresponding jupyterlab extensions\n",
    "\n",
    "### Install Python dependencies\n",
    "\n",
    "First, create a venv and install the dependencies from `pyproject.toml` with poetry:\n",
    "\n",
    "``` bash\n",
    "python3 -mvenv venv\n",
    "source venv/bin/activate\n",
    "poetry install\n",
    "```\n",
    "\n",
    "### Install jupyterlab extensions\n",
    "\n",
    "Run (and wait):\n",
    "\n",
    "```\n",
    "jupyter labextension install --no-build @jupyter-widgets/jupyterlab-manager@2.0.0\n",
    "jupyter labextension install --no-build @jupyter-widgets/jupyterlab-sidecar@0.5.0\n",
    "jupyter labextension install --no-build @bokeh/jupyter_bokeh@2.0.4\n",
    "jupyter labextension install --no-build bqplot@0.5.19\n",
    "jupyter labextension install --no-build ipycanvas@0.6.1\n",
    "jupyter labextension install --no-build ipyevents@1.8.1\n",
    "jupyter labextension install --no-build ipytree@0.1.8\n",
    "jupyter labextension install --no-build jupyter-leaflet@0.13.2\n",
    "jupyter labextension install --no-build jupyter-matplotlib@0.7.4\n",
    "jupyter labextension install --no-build qgrid2@1.1.3\n",
    "jupyter lab build\n",
    "```\n",
    "\n",
    "# Test extensions\n",
    "\n",
    "The following cell contain info on how to install the latest version of each extension and some code that tests the extensions works.\n",
    "\n",
    "You should be able to run this notebook until the end without any exceptions.\n",
    "\n",
    "Note: Maptlotlib requires some manual steps in order to test it properly. Check the last cell for more info"
   ]
  },
  {
   "cell_type": "markdown",
   "metadata": {},
   "source": [
    "# ipywidgets\n",
    "\n",
    "### Installation\n",
    "\n",
    "``` \n",
    "poetry add ipywidgets\n",
    "jupyter labextension install --no-build @jupyter-widgets/jupyterlab-manager \n",
    "jupyter lab build\n",
    "```\n",
    "\n",
    "### Testing\n",
    "\n",
    "More examples can be found here: https://github.com/jupyter-widgets/ipywidgets/blob/master/docs/source/examples/Index.ipynb"
   ]
  },
  {
   "cell_type": "code",
   "execution_count": null,
   "metadata": {},
   "outputs": [],
   "source": [
    "import ipywidgets as widgets\n",
    "from IPython.display import display"
   ]
  },
  {
   "cell_type": "code",
   "execution_count": null,
   "metadata": {},
   "outputs": [],
   "source": [
    "w = widgets.FloatSlider(\n",
    "    value=7.5,\n",
    "    min=0,\n",
    "    max=10.0,\n",
    "    step=0.1,\n",
    "    description='Test:',\n",
    "    disabled=False,\n",
    "    continuous_update=False,\n",
    "    orientation='vertical',\n",
    "    readout=True,\n",
    "    readout_format='.1f',\n",
    ")\n",
    "display(w)"
   ]
  },
  {
   "cell_type": "markdown",
   "metadata": {},
   "source": [
    "# ipycanvas\n",
    "\n",
    "### Installation\n",
    "\n",
    "``` bash\n",
    "poetry add ipycanvas\n",
    "jupyter labextension install --no-build @jupyter-widgets/jupyterlab-manager\n",
    "jupyter labextension install --no-build ipycanvas\n",
    "jupyter lab build\n",
    "```\n",
    "\n",
    "### Test"
   ]
  },
  {
   "cell_type": "code",
   "execution_count": null,
   "metadata": {},
   "outputs": [],
   "source": [
    "from ipycanvas import Canvas\n",
    "\n",
    "canvas = Canvas(width=200, height=200)\n",
    "\n",
    "canvas.fill_rect(25, 25, 100, 100)\n",
    "canvas.clear_rect(45, 45, 60, 60)\n",
    "canvas.stroke_rect(50, 50, 50, 50)\n",
    "\n",
    "canvas"
   ]
  },
  {
   "cell_type": "markdown",
   "metadata": {},
   "source": [
    "# ipyevents\n",
    "\n",
    "### Installation\n",
    "\n",
    "``` bash\n",
    "poetry add ipyevents\n",
    "jupyter labextension install --no-build @jupyter-widgets/jupyterlab-manager\n",
    "jupyter labextension install --no-build ipyevents\n",
    "jupyter lab build\n",
    "```\n",
    "\n",
    "### Test"
   ]
  },
  {
   "cell_type": "code",
   "execution_count": null,
   "metadata": {},
   "outputs": [],
   "source": [
    "from ipywidgets import Label, HTML, HBox, Image, VBox, Box, HBox\n",
    "from ipyevents import Event \n",
    "from IPython.display import display\n",
    "\n",
    "l = Label('Click or type on me!')\n",
    "l.layout.border = '2px solid red'\n",
    "\n",
    "h = HTML('Event info')\n",
    "d = Event(source=l, watched_events=['click', 'keydown', 'mouseenter'])\n",
    "\n",
    "def handle_event(event):\n",
    "    lines = ['{}: {}'.format(k, v) for k, v in event.items()]\n",
    "    content = '<br>'.join(lines)\n",
    "    h.value = content\n",
    "\n",
    "d.on_dom_event(handle_event)\n",
    "                            \n",
    "display(l, h)\n"
   ]
  },
  {
   "cell_type": "markdown",
   "metadata": {},
   "source": [
    "# ipytree\n",
    "\n",
    "### Installation\n",
    "\n",
    "``` bash\n",
    "poetry add ipytree\n",
    "jupyter labextension install --no-build @jupyter-widgets/jupyterlab-manager\n",
    "jupyter labextension install --no-build ipytree\n",
    "jupyter lab build\n",
    "```\n",
    "\n",
    "### Test"
   ]
  },
  {
   "cell_type": "code",
   "execution_count": null,
   "metadata": {},
   "outputs": [],
   "source": [
    "from ipytree import Node, Tree\n",
    "\n",
    "tree = Tree(stripes=True)\n",
    "node1 = Node('node1')\n",
    "tree.add_node(node1)\n",
    "node2 = Node('node2')\n",
    "tree.add_node(node2)\n",
    "node3 = Node('node3', disabled=True)\n",
    "node4 = Node('node4')\n",
    "node5 = Node('node5', [Node('1'), Node('2')])\n",
    "node2.add_node(node3)\n",
    "node2.add_node(node4)\n",
    "node2.add_node(node5)\n",
    "tree"
   ]
  },
  {
   "cell_type": "markdown",
   "metadata": {},
   "source": [
    "# tqdm\n",
    "\n",
    "### Installation\n",
    "\n",
    "```\n",
    "poetry add tqdm\n",
    "```\n",
    "\n",
    "### Test"
   ]
  },
  {
   "cell_type": "code",
   "execution_count": null,
   "metadata": {},
   "outputs": [],
   "source": [
    "import time\n",
    "from tqdm.notebook import tqdm\n",
    "example_iter = [1,2,3,4,5]\n",
    "for rec in tqdm(example_iter):\n",
    "    time.sleep(.2)"
   ]
  },
  {
   "attachments": {
    "759dbdf1-a1dc-4ac9-b48d-074468dfa665.png": {
     "image/png": "[encoded data removed]"
    }
   },
   "cell_type": "markdown",
   "metadata": {},
   "source": [
    "# Sidecar\n",
    "\n",
    "### Installation\n",
    "\n",
    "``` bash\n",
    "poetry add sidecar\n",
    "jupyter labextension install --no-build @jupyter-widgets/jupyterlab-manager \n",
    "jupyter labextension install --no-build @jupyter-widgets/jupyterlab-sidecar\n",
    "jupyter lab build\n",
    "```\n",
    "\n",
    "### Test\n",
    "\n",
    "Running the following cell should create a sidecar window similar to this one: \n",
    "\n",
    "![image.png](attachment:759dbdf1-a1dc-4ac9-b48d-074468dfa665.png)"
   ]
  },
  {
   "cell_type": "code",
   "execution_count": null,
   "metadata": {},
   "outputs": [],
   "source": [
    "from sidecar import Sidecar\n",
    "from ipywidgets import IntSlider\n",
    "\n",
    "sc = Sidecar(title='Sidecar Output')\n",
    "sl = IntSlider(description='Some slider')\n",
    "with sc:\n",
    "    display(sl)\n",
    "    "
   ]
  },
  {
   "cell_type": "markdown",
   "metadata": {},
   "source": [
    "# Ipyleaflet\n",
    "\n",
    "### Installation\n",
    "\n",
    "``` bash\n",
    "poetry add ipyleaflet\n",
    "jupyter labextension install --no-build @jupyter-widgets/jupyterlab-manager \n",
    "jupyter labextension install --no-build jupyter-leaflet\n",
    "jupyter lab build\n",
    "```\n",
    "\n",
    "### Test"
   ]
  },
  {
   "cell_type": "code",
   "execution_count": null,
   "metadata": {},
   "outputs": [],
   "source": [
    "from ipytree import Tree, Node\n",
    "from ipyleaflet import Map, Marker\n",
    "from ipywidgets import HBox, link, Layout\n",
    "\n",
    "m = Map(center=[47.51, 4.04], zoom=4)\n",
    "tree = Tree()\n",
    "tree.layout.width = '40%'\n",
    "box = HBox([tree, m])\n",
    "\n",
    "markers_node = Node('Markers')\n",
    "tree.add_node(markers_node)\n",
    "\n",
    "layers_node = Node('Layers', icon='map')\n",
    "tree.add_node(layers_node)\n",
    "\n",
    "cities = [\n",
    "    {'name': 'London', 'location': [51.5074, 0.1278]},\n",
    "    {'name': 'Paris', 'location': [48.8566, 2.3522]},\n",
    "    {'name': 'Barcelona', 'location': [41.31, 2.109]}\n",
    "]\n",
    "\n",
    "for city in cities:\n",
    "    marker = Marker(location=city.get('location'))\n",
    "    node = Node(city.get('name'), icon='map-marker')\n",
    "\n",
    "    link((marker, 'visible'), (node, 'selected'))\n",
    "\n",
    "    m.add_layer(marker);\n",
    "    markers_node.add_node(node)\n",
    "    \n",
    "box"
   ]
  },
  {
   "cell_type": "markdown",
   "metadata": {},
   "source": [
    "# Qgrid\n",
    "\n",
    "### Installation\n",
    "\n",
    "``` bash\n",
    "poetry add qgrid\n",
    "jupyter labextension install --no-build @jupyter-widgets/jupyterlab-manager \n",
    "jupyter labextension install --no-build qgrid2\n",
    "jupyter lab build\n",
    "```\n",
    "\n",
    "### Test"
   ]
  },
  {
   "cell_type": "code",
   "execution_count": null,
   "metadata": {},
   "outputs": [],
   "source": [
    "import numpy as np\n",
    "import pandas as pd\n",
    "import qgrid\n",
    "randn = np.random.randn\n",
    "df_types = pd.DataFrame({\n",
    "    'A' : pd.Series(['2013-01-01', '2013-01-02', '2013-01-03', '2013-01-04',\n",
    "               '2013-01-05', '2013-01-06', '2013-01-07', '2013-01-08', '2013-01-09'],index=list(range(9)),dtype='datetime64[ns]'),\n",
    "    'B' : pd.Series(randn(9),index=list(range(9)),dtype='float32'),\n",
    "    'C' : pd.Categorical([\"washington\", \"adams\", \"washington\", \"madison\", \"lincoln\",\"jefferson\", \"hamilton\", \"roosevelt\", \"kennedy\"]),\n",
    "    'D' : [\"foo\", \"bar\", \"buzz\", \"bippity\",\"boppity\", \"foo\", \"foo\", \"bar\", \"zoo\"] })\n",
    "df_types['E'] = df_types['D'] == 'foo'\n",
    "qgrid_widget = qgrid.show_grid(df_types, show_toolbar=True)\n",
    "qgrid_widget"
   ]
  },
  {
   "cell_type": "markdown",
   "metadata": {},
   "source": [
    "# Bokeh\n",
    "\n",
    "### Installation\n",
    "\n",
    "``` bash\n",
    "poetry add bokeh\n",
    "jupyter labextension install --no-build @jupyter-widgets/jupyterlab-manager \n",
    "jupyter labextension install --no-build @bokeh/jupyter_bokeh\n",
    "jupyter lab build\n",
    "```\n",
    "\n",
    "### Test"
   ]
  },
  {
   "cell_type": "code",
   "execution_count": null,
   "metadata": {},
   "outputs": [],
   "source": [
    "from bokeh.plotting import figure, output_file, show\n",
    "from bokeh.plotting import figure, show, output_notebook\n",
    "\n",
    "# You just need to call this once\n",
    "output_notebook()\n",
    "\n",
    "# prepare some data\n",
    "x = [1, 2, 3, 4, 5]\n",
    "y = [6, 7, 2, 4, 5]\n",
    "\n",
    "\n",
    "# create a new plot with a title and axis labels\n",
    "p = figure(title=\"simple line example\", x_axis_label='x', y_axis_label='y')\n",
    "\n",
    "# add a line renderer with legend and line thickness\n",
    "p.line(x, y, legend_label=\"Temp.\", line_width=2)\n",
    "\n",
    "# show the results\n",
    "show(p)"
   ]
  },
  {
   "cell_type": "markdown",
   "metadata": {},
   "source": [
    "# bqplot\n",
    "\n",
    "### Installation\n",
    "\n",
    "``` bash\n",
    "poetry add bqplot\n",
    "jupyter labextension install --no-build @jupyter-widgets/jupyterlab-manager\n",
    "jupyter labextension install --no-build bqplot\n",
    "jupyter lab build\n",
    "```\n",
    "\n",
    "### Test 1 (using the pyplot API)"
   ]
  },
  {
   "cell_type": "code",
   "execution_count": null,
   "metadata": {},
   "outputs": [],
   "source": [
    "import numpy as np\n",
    "from bqplot import pyplot as plt\n",
    "\n",
    "plt.figure(1, title='Line Chart')\n",
    "np.random.seed(0)\n",
    "n = 200\n",
    "x = np.linspace(0.0, 10.0, n)\n",
    "y = np.cumsum(np.random.randn(n))\n",
    "plt.plot(x, y)\n",
    "plt.show();"
   ]
  },
  {
   "cell_type": "markdown",
   "metadata": {},
   "source": [
    "### Test 2 (using the native bqplot)"
   ]
  },
  {
   "cell_type": "code",
   "execution_count": null,
   "metadata": {},
   "outputs": [],
   "source": [
    "import numpy as np\n",
    "from IPython.display import display\n",
    "from bqplot import (\n",
    "    OrdinalScale, LinearScale, Bars, Lines, Axis, Figure\n",
    ")\n",
    "\n",
    "size = 20\n",
    "np.random.seed(0)\n",
    "\n",
    "x_data = np.arange(size)\n",
    "\n",
    "x_ord = OrdinalScale()\n",
    "y_sc = LinearScale()\n",
    "\n",
    "bar = Bars(x=x_data, y=np.random.randn(2, size), scales={'x': x_ord, 'y':\n",
    "y_sc}, type='stacked')\n",
    "line = Lines(x=x_data, y=np.random.randn(size), scales={'x': x_ord, 'y': y_sc},\n",
    "             stroke_width=3, colors=['red'], display_legend=True, labels=['Line chart'])\n",
    "\n",
    "ax_x = Axis(scale=x_ord, grid_lines='solid', label='X')\n",
    "ax_y = Axis(scale=y_sc, orientation='vertical', tick_format='0.2f',\n",
    "            grid_lines='solid', label='Y')\n",
    "\n",
    "Figure(marks=[bar, line], axes=[ax_x, ax_y], title='API Example',\n",
    "       legend_location='bottom-right')"
   ]
  },
  {
   "cell_type": "markdown",
   "metadata": {},
   "source": [
    "# Matplotlib\n",
    "\n",
    "### Installation\n",
    "\n",
    "``` bash\n",
    "poetry add matplotlib\n",
    "poetry add ipympl\n",
    "# There is no ipympl specific extension, but you still need to run build!\n",
    "jupyter labextension install --no-build @jupyter-widgets/jupyterlab-manager \n",
    "jupyter labextension install --no-build jupyterlab-matplotlib\n",
    "jupyter lab build\n",
    "```\n",
    "\n",
    "### Modes\n",
    "\n",
    "There are several different modes when plotting using matplotlib:\n",
    "\n",
    "```\n",
    "%matplotlib\n",
    "%matplotlib inline\n",
    "%matplotlib notebook\n",
    "%matplotlib widget\n",
    "%matplotlib ipympl\n",
    "```\n",
    "\n",
    "- `%matplotlib inline` is the default mode on jupyterlab. it is not interactive. It justs plots a png.\n",
    "- `%matplotlib` is the standard/legacy matplotlib behavior. I.e. it displays the image in a pop-up window.\n",
    "- `%matplotlib widget` and `%matplotlib ipympl` seem to be giving the same output. i am not sure if there are any differences.\n",
    "- I couldn't get `%matplotlib notebook` to work. It might be deprecated/no longer supported, but I haven't found any references\n",
    "\n",
    "\n",
    "### Test\n",
    "\n",
    "\n",
    "**DISCLAIMER**\n",
    "\n",
    "Swithcing between modes is not really supported. \n",
    "It is recommended to set the mode once at the beginning of each notebook!\n",
    "\n",
    "Restart the kernel, choose a mode, execute it and the execute the code cell that follows."
   ]
  },
  {
   "cell_type": "code",
   "execution_count": null,
   "metadata": {},
   "outputs": [],
   "source": [
    "%matplotlib inline"
   ]
  },
  {
   "cell_type": "code",
   "execution_count": null,
   "metadata": {},
   "outputs": [],
   "source": [
    "import numpy as np\n",
    "import matplotlib.pyplot as plt\n",
    "\n",
    "x = np.linspace(0, 10, 100)\n",
    "\n",
    "fig = plt.figure()\n",
    "plt.plot(x, np.sin(x), '-')\n",
    "plt.plot(x, np.cos(x), '--')\n",
    "plt.show();"
   ]
  },
  {
   "cell_type": "code",
   "execution_count": null,
   "metadata": {},
   "outputs": [],
   "source": [
    "%matplotlib ipympl"
   ]
  },
  {
   "cell_type": "code",
   "execution_count": null,
   "metadata": {},
   "outputs": [],
   "source": [
    "%matplotlib widget"
   ]
  },
  {
   "cell_type": "code",
   "execution_count": null,
   "metadata": {},
   "outputs": [],
   "source": [
    "%matplotlib notebook"
   ]
  },
  {
   "cell_type": "code",
   "execution_count": null,
   "metadata": {},
   "outputs": [],
   "source": [
    "%matplotlib"
   ]
  },
  {
   "cell_type": "code",
   "execution_count": null,
   "metadata": {},
   "outputs": [],
   "source": [
    "import numpy as np\n",
    "import matplotlib.pyplot as plt\n",
    "\n",
    "x = np.linspace(0, 10, 100)\n",
    "\n",
    "fig = plt.figure()\n",
    "plt.plot(x, np.sin(x), '-')\n",
    "plt.plot(x, np.cos(x), '--')\n",
    "plt.show();"
   ]
  }
 ],
 "metadata": {
  "kernelspec": {
   "display_name": "Python 3",
   "language": "python",
   "name": "python3"
  },
  "language_info": {
   "codemirror_mode": {
    "name": "ipython",
    "version": 3
   },
   "file_extension": ".py",
   "mimetype": "text/x-python",
   "name": "python",
   "nbconvert_exporter": "python",
   "pygments_lexer": "ipython3",
   "version": "3.8.6"
  }
 },
 "nbformat": 4,
 "nbformat_minor": 4
}
